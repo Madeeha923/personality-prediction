{
 "cells": [
  {
   "cell_type": "code",
   "execution_count": 1,
   "id": "29b52a99-2082-42bb-832a-bee444aef814",
   "metadata": {},
   "outputs": [],
   "source": [
    "import numpy as np\n",
    "import pandas as pd\n",
    "import warnings\n",
    "\n"
   ]
  },
  {
   "cell_type": "code",
   "execution_count": 2,
   "id": "bc8d8e44-75ec-406c-85de-d7da98504b74",
   "metadata": {},
   "outputs": [],
   "source": [
    "warnings.filterwarnings('ignore')"
   ]
  },
  {
   "cell_type": "code",
   "execution_count": 3,
   "id": "a585bf68-7225-440a-814f-020139ff1c50",
   "metadata": {},
   "outputs": [],
   "source": [
    "train_df = pd.read_csv('train.csv')"
   ]
  },
  {
   "cell_type": "code",
   "execution_count": 4,
   "id": "8db88392-3d44-4ab8-80d8-f8f8c08f600d",
   "metadata": {},
   "outputs": [],
   "source": [
    "test_df = pd.read_csv('test.csv')"
   ]
  },
  {
   "cell_type": "code",
   "execution_count": 5,
   "id": "77994ee8-65fb-4f3f-82e6-4d6654f21672",
   "metadata": {},
   "outputs": [
    {
     "data": {
      "text/html": [
       "<div>\n",
       "<style scoped>\n",
       "    .dataframe tbody tr th:only-of-type {\n",
       "        vertical-align: middle;\n",
       "    }\n",
       "\n",
       "    .dataframe tbody tr th {\n",
       "        vertical-align: top;\n",
       "    }\n",
       "\n",
       "    .dataframe thead th {\n",
       "        text-align: right;\n",
       "    }\n",
       "</style>\n",
       "<table border=\"1\" class=\"dataframe\">\n",
       "  <thead>\n",
       "    <tr style=\"text-align: right;\">\n",
       "      <th></th>\n",
       "      <th>id</th>\n",
       "      <th>Time_spent_Alone</th>\n",
       "      <th>Stage_fear</th>\n",
       "      <th>Social_event_attendance</th>\n",
       "      <th>Going_outside</th>\n",
       "      <th>Drained_after_socializing</th>\n",
       "      <th>Friends_circle_size</th>\n",
       "      <th>Post_frequency</th>\n",
       "      <th>Personality</th>\n",
       "    </tr>\n",
       "  </thead>\n",
       "  <tbody>\n",
       "    <tr>\n",
       "      <th>0</th>\n",
       "      <td>0</td>\n",
       "      <td>0.0</td>\n",
       "      <td>No</td>\n",
       "      <td>6.0</td>\n",
       "      <td>4.0</td>\n",
       "      <td>No</td>\n",
       "      <td>15.0</td>\n",
       "      <td>5.0</td>\n",
       "      <td>Extrovert</td>\n",
       "    </tr>\n",
       "    <tr>\n",
       "      <th>1</th>\n",
       "      <td>1</td>\n",
       "      <td>1.0</td>\n",
       "      <td>No</td>\n",
       "      <td>7.0</td>\n",
       "      <td>3.0</td>\n",
       "      <td>No</td>\n",
       "      <td>10.0</td>\n",
       "      <td>8.0</td>\n",
       "      <td>Extrovert</td>\n",
       "    </tr>\n",
       "    <tr>\n",
       "      <th>2</th>\n",
       "      <td>2</td>\n",
       "      <td>6.0</td>\n",
       "      <td>Yes</td>\n",
       "      <td>1.0</td>\n",
       "      <td>0.0</td>\n",
       "      <td>NaN</td>\n",
       "      <td>3.0</td>\n",
       "      <td>0.0</td>\n",
       "      <td>Introvert</td>\n",
       "    </tr>\n",
       "    <tr>\n",
       "      <th>3</th>\n",
       "      <td>3</td>\n",
       "      <td>3.0</td>\n",
       "      <td>No</td>\n",
       "      <td>7.0</td>\n",
       "      <td>3.0</td>\n",
       "      <td>No</td>\n",
       "      <td>11.0</td>\n",
       "      <td>5.0</td>\n",
       "      <td>Extrovert</td>\n",
       "    </tr>\n",
       "    <tr>\n",
       "      <th>4</th>\n",
       "      <td>4</td>\n",
       "      <td>1.0</td>\n",
       "      <td>No</td>\n",
       "      <td>4.0</td>\n",
       "      <td>4.0</td>\n",
       "      <td>No</td>\n",
       "      <td>13.0</td>\n",
       "      <td>NaN</td>\n",
       "      <td>Extrovert</td>\n",
       "    </tr>\n",
       "  </tbody>\n",
       "</table>\n",
       "</div>"
      ],
      "text/plain": [
       "   id  Time_spent_Alone Stage_fear  Social_event_attendance  Going_outside  \\\n",
       "0   0               0.0         No                      6.0            4.0   \n",
       "1   1               1.0         No                      7.0            3.0   \n",
       "2   2               6.0        Yes                      1.0            0.0   \n",
       "3   3               3.0         No                      7.0            3.0   \n",
       "4   4               1.0         No                      4.0            4.0   \n",
       "\n",
       "  Drained_after_socializing  Friends_circle_size  Post_frequency Personality  \n",
       "0                        No                 15.0             5.0   Extrovert  \n",
       "1                        No                 10.0             8.0   Extrovert  \n",
       "2                       NaN                  3.0             0.0   Introvert  \n",
       "3                        No                 11.0             5.0   Extrovert  \n",
       "4                        No                 13.0             NaN   Extrovert  "
      ]
     },
     "execution_count": 5,
     "metadata": {},
     "output_type": "execute_result"
    }
   ],
   "source": [
    "train_df.head()"
   ]
  },
  {
   "cell_type": "code",
   "execution_count": 6,
   "id": "59dfc58b-095c-4efb-90dd-7d254e18d396",
   "metadata": {},
   "outputs": [
    {
     "data": {
      "text/plain": [
       "Index(['id', 'Time_spent_Alone', 'Stage_fear', 'Social_event_attendance',\n",
       "       'Going_outside', 'Drained_after_socializing', 'Friends_circle_size',\n",
       "       'Post_frequency', 'Personality'],\n",
       "      dtype='object')"
      ]
     },
     "execution_count": 6,
     "metadata": {},
     "output_type": "execute_result"
    }
   ],
   "source": [
    "train_df.columns"
   ]
  },
  {
   "cell_type": "code",
   "execution_count": 7,
   "id": "27d329ac-e8d1-4b17-a2cc-df39475a7730",
   "metadata": {},
   "outputs": [
    {
     "data": {
      "text/plain": [
       "(18524, 9)"
      ]
     },
     "execution_count": 7,
     "metadata": {},
     "output_type": "execute_result"
    }
   ],
   "source": [
    "train_df.shape"
   ]
  },
  {
   "cell_type": "code",
   "execution_count": 8,
   "id": "c588f9bc-a5ae-4007-8351-4d4f370c384a",
   "metadata": {},
   "outputs": [
    {
     "name": "stdout",
     "output_type": "stream",
     "text": [
      "<class 'pandas.core.frame.DataFrame'>\n",
      "RangeIndex: 18524 entries, 0 to 18523\n",
      "Data columns (total 9 columns):\n",
      " #   Column                     Non-Null Count  Dtype  \n",
      "---  ------                     --------------  -----  \n",
      " 0   id                         18524 non-null  int64  \n",
      " 1   Time_spent_Alone           17334 non-null  float64\n",
      " 2   Stage_fear                 16631 non-null  object \n",
      " 3   Social_event_attendance    17344 non-null  float64\n",
      " 4   Going_outside              17058 non-null  float64\n",
      " 5   Drained_after_socializing  17375 non-null  object \n",
      " 6   Friends_circle_size        17470 non-null  float64\n",
      " 7   Post_frequency             17260 non-null  float64\n",
      " 8   Personality                18524 non-null  object \n",
      "dtypes: float64(5), int64(1), object(3)\n",
      "memory usage: 1.3+ MB\n"
     ]
    }
   ],
   "source": [
    "train_df.info()"
   ]
  },
  {
   "cell_type": "code",
   "execution_count": 9,
   "id": "3819ec57-e5f9-490a-bf03-1e566b57ce72",
   "metadata": {},
   "outputs": [
    {
     "data": {
      "text/plain": [
       "id                              0\n",
       "Time_spent_Alone             1190\n",
       "Stage_fear                   1893\n",
       "Social_event_attendance      1180\n",
       "Going_outside                1466\n",
       "Drained_after_socializing    1149\n",
       "Friends_circle_size          1054\n",
       "Post_frequency               1264\n",
       "Personality                     0\n",
       "dtype: int64"
      ]
     },
     "execution_count": 9,
     "metadata": {},
     "output_type": "execute_result"
    }
   ],
   "source": [
    "train_df.isnull().sum()"
   ]
  },
  {
   "cell_type": "code",
   "execution_count": 10,
   "id": "d9689415-1fa5-4303-9f12-6c6490b31c7d",
   "metadata": {},
   "outputs": [
    {
     "data": {
      "text/plain": [
       "<bound method Series.unique of Time_spent_Alone\n",
       "0.0     3139\n",
       "3.0     3081\n",
       "2.0     3039\n",
       "1.0     2973\n",
       "4.0     1079\n",
       "5.0      633\n",
       "10.0     587\n",
       "8.0      582\n",
       "7.0      581\n",
       "6.0      574\n",
       "9.0      574\n",
       "11.0     492\n",
       "Name: count, dtype: int64>"
      ]
     },
     "execution_count": 10,
     "metadata": {},
     "output_type": "execute_result"
    }
   ],
   "source": [
    "train_df['Time_spent_Alone'].value_counts().unique"
   ]
  },
  {
   "cell_type": "code",
   "execution_count": 11,
   "id": "501f2dbc-cd82-41e9-b190-81b77d30d49f",
   "metadata": {},
   "outputs": [
    {
     "data": {
      "text/plain": [
       "(6175, 8)"
      ]
     },
     "execution_count": 11,
     "metadata": {},
     "output_type": "execute_result"
    }
   ],
   "source": [
    "test_df.shape"
   ]
  },
  {
   "cell_type": "code",
   "execution_count": 12,
   "id": "bd7f75a7-379a-4a83-8f1d-20ec30575b87",
   "metadata": {},
   "outputs": [
    {
     "data": {
      "text/plain": [
       "id                             0\n",
       "Time_spent_Alone             425\n",
       "Stage_fear                   598\n",
       "Social_event_attendance      397\n",
       "Going_outside                466\n",
       "Drained_after_socializing    432\n",
       "Friends_circle_size          350\n",
       "Post_frequency               408\n",
       "dtype: int64"
      ]
     },
     "execution_count": 12,
     "metadata": {},
     "output_type": "execute_result"
    }
   ],
   "source": [
    "test_df.isnull().sum()"
   ]
  },
  {
   "cell_type": "code",
   "execution_count": 13,
   "id": "92508449-46e3-4070-840f-6c74a09998c9",
   "metadata": {},
   "outputs": [
    {
     "name": "stdout",
     "output_type": "stream",
     "text": [
      "train shape: (18524, 9)\n",
      "test shape: (6175, 8)\n"
     ]
    }
   ],
   "source": [
    "print(f\"train shape: {train_df.shape}\")\n",
    "print(f\"test shape: {test_df.shape}\")\n"
   ]
  },
  {
   "cell_type": "code",
   "execution_count": 14,
   "id": "760c47aa-e5bc-4288-b321-cf14f3b97a52",
   "metadata": {},
   "outputs": [],
   "source": [
    "data = pd.concat([train_df, test_df])"
   ]
  },
  {
   "cell_type": "code",
   "execution_count": 15,
   "id": "e8f80075-6a09-44cf-a7bb-c9ff9756d4cd",
   "metadata": {},
   "outputs": [
    {
     "data": {
      "text/plain": [
       "(24699, 9)"
      ]
     },
     "execution_count": 15,
     "metadata": {},
     "output_type": "execute_result"
    }
   ],
   "source": [
    "data.shape"
   ]
  },
  {
   "cell_type": "code",
   "execution_count": 16,
   "id": "55956c2a-c0a0-46ba-b9b7-3d4d9fde39ca",
   "metadata": {},
   "outputs": [
    {
     "data": {
      "text/plain": [
       "Index(['id', 'Time_spent_Alone', 'Stage_fear', 'Social_event_attendance',\n",
       "       'Going_outside', 'Drained_after_socializing', 'Friends_circle_size',\n",
       "       'Post_frequency', 'Personality'],\n",
       "      dtype='object')"
      ]
     },
     "execution_count": 16,
     "metadata": {},
     "output_type": "execute_result"
    }
   ],
   "source": [
    "data.columns"
   ]
  },
  {
   "cell_type": "code",
   "execution_count": 17,
   "id": "f3218529-94f6-45e8-b321-099bbddd3dd0",
   "metadata": {},
   "outputs": [
    {
     "data": {
      "text/html": [
       "<div>\n",
       "<style scoped>\n",
       "    .dataframe tbody tr th:only-of-type {\n",
       "        vertical-align: middle;\n",
       "    }\n",
       "\n",
       "    .dataframe tbody tr th {\n",
       "        vertical-align: top;\n",
       "    }\n",
       "\n",
       "    .dataframe thead th {\n",
       "        text-align: right;\n",
       "    }\n",
       "</style>\n",
       "<table border=\"1\" class=\"dataframe\">\n",
       "  <thead>\n",
       "    <tr style=\"text-align: right;\">\n",
       "      <th></th>\n",
       "      <th>id</th>\n",
       "      <th>Time_spent_Alone</th>\n",
       "      <th>Social_event_attendance</th>\n",
       "      <th>Going_outside</th>\n",
       "      <th>Friends_circle_size</th>\n",
       "      <th>Post_frequency</th>\n",
       "    </tr>\n",
       "  </thead>\n",
       "  <tbody>\n",
       "    <tr>\n",
       "      <th>count</th>\n",
       "      <td>24699.000000</td>\n",
       "      <td>23084.000000</td>\n",
       "      <td>23122.000000</td>\n",
       "      <td>22767.000000</td>\n",
       "      <td>23295.000000</td>\n",
       "      <td>23027.000000</td>\n",
       "    </tr>\n",
       "    <tr>\n",
       "      <th>mean</th>\n",
       "      <td>12349.000000</td>\n",
       "      <td>3.132559</td>\n",
       "      <td>5.270824</td>\n",
       "      <td>4.042693</td>\n",
       "      <td>7.999657</td>\n",
       "      <td>4.993833</td>\n",
       "    </tr>\n",
       "    <tr>\n",
       "      <th>std</th>\n",
       "      <td>7130.131485</td>\n",
       "      <td>2.999230</td>\n",
       "      <td>2.754491</td>\n",
       "      <td>2.058194</td>\n",
       "      <td>4.215721</td>\n",
       "      <td>2.876184</td>\n",
       "    </tr>\n",
       "    <tr>\n",
       "      <th>min</th>\n",
       "      <td>0.000000</td>\n",
       "      <td>0.000000</td>\n",
       "      <td>0.000000</td>\n",
       "      <td>0.000000</td>\n",
       "      <td>0.000000</td>\n",
       "      <td>0.000000</td>\n",
       "    </tr>\n",
       "    <tr>\n",
       "      <th>25%</th>\n",
       "      <td>6174.500000</td>\n",
       "      <td>1.000000</td>\n",
       "      <td>3.000000</td>\n",
       "      <td>3.000000</td>\n",
       "      <td>5.000000</td>\n",
       "      <td>3.000000</td>\n",
       "    </tr>\n",
       "    <tr>\n",
       "      <th>50%</th>\n",
       "      <td>12349.000000</td>\n",
       "      <td>2.000000</td>\n",
       "      <td>5.000000</td>\n",
       "      <td>4.000000</td>\n",
       "      <td>8.000000</td>\n",
       "      <td>5.000000</td>\n",
       "    </tr>\n",
       "    <tr>\n",
       "      <th>75%</th>\n",
       "      <td>18523.500000</td>\n",
       "      <td>4.000000</td>\n",
       "      <td>8.000000</td>\n",
       "      <td>6.000000</td>\n",
       "      <td>12.000000</td>\n",
       "      <td>7.000000</td>\n",
       "    </tr>\n",
       "    <tr>\n",
       "      <th>max</th>\n",
       "      <td>24698.000000</td>\n",
       "      <td>11.000000</td>\n",
       "      <td>10.000000</td>\n",
       "      <td>7.000000</td>\n",
       "      <td>15.000000</td>\n",
       "      <td>10.000000</td>\n",
       "    </tr>\n",
       "  </tbody>\n",
       "</table>\n",
       "</div>"
      ],
      "text/plain": [
       "                 id  Time_spent_Alone  Social_event_attendance  Going_outside  \\\n",
       "count  24699.000000      23084.000000             23122.000000   22767.000000   \n",
       "mean   12349.000000          3.132559                 5.270824       4.042693   \n",
       "std     7130.131485          2.999230                 2.754491       2.058194   \n",
       "min        0.000000          0.000000                 0.000000       0.000000   \n",
       "25%     6174.500000          1.000000                 3.000000       3.000000   \n",
       "50%    12349.000000          2.000000                 5.000000       4.000000   \n",
       "75%    18523.500000          4.000000                 8.000000       6.000000   \n",
       "max    24698.000000         11.000000                10.000000       7.000000   \n",
       "\n",
       "       Friends_circle_size  Post_frequency  \n",
       "count         23295.000000    23027.000000  \n",
       "mean              7.999657        4.993833  \n",
       "std               4.215721        2.876184  \n",
       "min               0.000000        0.000000  \n",
       "25%               5.000000        3.000000  \n",
       "50%               8.000000        5.000000  \n",
       "75%              12.000000        7.000000  \n",
       "max              15.000000       10.000000  "
      ]
     },
     "execution_count": 17,
     "metadata": {},
     "output_type": "execute_result"
    }
   ],
   "source": [
    "data.describe()"
   ]
  },
  {
   "cell_type": "code",
   "execution_count": 18,
   "id": "58d3e21c-a87a-483f-adec-cad163afef99",
   "metadata": {},
   "outputs": [
    {
     "name": "stdout",
     "output_type": "stream",
     "text": [
      "<class 'pandas.core.frame.DataFrame'>\n",
      "Index: 24699 entries, 0 to 6174\n",
      "Data columns (total 9 columns):\n",
      " #   Column                     Non-Null Count  Dtype  \n",
      "---  ------                     --------------  -----  \n",
      " 0   id                         24699 non-null  int64  \n",
      " 1   Time_spent_Alone           23084 non-null  float64\n",
      " 2   Stage_fear                 22208 non-null  object \n",
      " 3   Social_event_attendance    23122 non-null  float64\n",
      " 4   Going_outside              22767 non-null  float64\n",
      " 5   Drained_after_socializing  23118 non-null  object \n",
      " 6   Friends_circle_size        23295 non-null  float64\n",
      " 7   Post_frequency             23027 non-null  float64\n",
      " 8   Personality                18524 non-null  object \n",
      "dtypes: float64(5), int64(1), object(3)\n",
      "memory usage: 1.9+ MB\n"
     ]
    }
   ],
   "source": [
    "data.info()"
   ]
  },
  {
   "cell_type": "code",
   "execution_count": 19,
   "id": "68748ccc-4749-4a50-92cd-8d8376be5740",
   "metadata": {},
   "outputs": [
    {
     "data": {
      "text/plain": [
       "id                              0\n",
       "Time_spent_Alone             1615\n",
       "Stage_fear                   2491\n",
       "Social_event_attendance      1577\n",
       "Going_outside                1932\n",
       "Drained_after_socializing    1581\n",
       "Friends_circle_size          1404\n",
       "Post_frequency               1672\n",
       "Personality                  6175\n",
       "dtype: int64"
      ]
     },
     "execution_count": 19,
     "metadata": {},
     "output_type": "execute_result"
    }
   ],
   "source": [
    "data.isnull().sum()"
   ]
  },
  {
   "cell_type": "code",
   "execution_count": 20,
   "id": "79c1798e-5b11-4606-badd-0932075a18f5",
   "metadata": {},
   "outputs": [
    {
     "data": {
      "text/plain": [
       "<bound method Series.unique of Time_spent_Alone\n",
       "0.0     4178\n",
       "3.0     4115\n",
       "2.0     4021\n",
       "1.0     3976\n",
       "4.0     1481\n",
       "5.0      830\n",
       "8.0      795\n",
       "10.0     766\n",
       "9.0      755\n",
       "6.0      753\n",
       "7.0      753\n",
       "11.0     661\n",
       "Name: count, dtype: int64>"
      ]
     },
     "execution_count": 20,
     "metadata": {},
     "output_type": "execute_result"
    }
   ],
   "source": [
    "data['Time_spent_Alone'].value_counts().unique"
   ]
  },
  {
   "cell_type": "code",
   "execution_count": 21,
   "id": "b031ca13-5ab1-4237-8afb-3287d6c55370",
   "metadata": {},
   "outputs": [
    {
     "name": "stdout",
     "output_type": "stream",
     "text": [
      "Requirement already satisfied: scipy in c:\\users\\madee\\anaconda3\\lib\\site-packages (1.13.1)\n",
      "Requirement already satisfied: numpy<2.3,>=1.22.4 in c:\\users\\madee\\anaconda3\\lib\\site-packages (from scipy) (1.26.4)\n",
      "Note: you may need to restart the kernel to use updated packages.\n"
     ]
    }
   ],
   "source": [
    "pip install scipy\n"
   ]
  },
  {
   "cell_type": "code",
   "execution_count": 22,
   "id": "38d8a655-996c-4be5-b7c8-127a4d172079",
   "metadata": {},
   "outputs": [],
   "source": [
    "from scipy.stats import skew\n",
    "import seaborn as sns\n",
    "import matplotlib.pyplot as plt"
   ]
  },
  {
   "cell_type": "code",
   "execution_count": 23,
   "id": "39141c0f-225f-4f19-b226-b74afb186f6b",
   "metadata": {},
   "outputs": [
    {
     "data": {
      "text/plain": [
       "nan"
      ]
     },
     "execution_count": 23,
     "metadata": {},
     "output_type": "execute_result"
    }
   ],
   "source": [
    "skew(data['Time_spent_Alone'])"
   ]
  },
  {
   "cell_type": "code",
   "execution_count": 24,
   "id": "6be37a81-35cd-4d90-b89c-4928308916d0",
   "metadata": {},
   "outputs": [
    {
     "data": {
      "image/png": "[encoded data removed]",
      "text/plain": [
       "<Figure size 640x480 with 1 Axes>"
      ]
     },
     "metadata": {},
     "output_type": "display_data"
    }
   ],
   "source": [
    "plt.figure()\n",
    "sns.distplot(data['Time_spent_Alone'])\n",
    "plt.savefig('timespentalone.png')\n",
    "plt.show()"
   ]
  },
  {
   "cell_type": "code",
   "execution_count": 25,
   "id": "5d63bd65-aa75-4364-92db-8b927da3553b",
   "metadata": {},
   "outputs": [],
   "source": [
    "data['Time_spent_Alone'].fillna(data['Time_spent_Alone'].median(), inplace=True)"
   ]
  },
  {
   "cell_type": "code",
   "execution_count": 26,
   "id": "8992f82a-44df-4a6e-994e-77724a15124a",
   "metadata": {},
   "outputs": [
    {
     "data": {
      "text/plain": [
       "0"
      ]
     },
     "execution_count": 26,
     "metadata": {},
     "output_type": "execute_result"
    }
   ],
   "source": [
    "data['Time_spent_Alone'].isnull().sum()"
   ]
  },
  {
   "cell_type": "code",
   "execution_count": 27,
   "id": "b226ff09-173a-414c-ab12-ff79d7e7843b",
   "metadata": {},
   "outputs": [
    {
     "data": {
      "text/plain": [
       "2491"
      ]
     },
     "execution_count": 27,
     "metadata": {},
     "output_type": "execute_result"
    }
   ],
   "source": [
    "data['Stage_fear'].isnull().sum()"
   ]
  },
  {
   "cell_type": "code",
   "execution_count": 28,
   "id": "768249f9-5235-4961-8d6d-eb7100c99c8d",
   "metadata": {},
   "outputs": [
    {
     "data": {
      "text/plain": [
       "<bound method Series.unique of Stage_fear\n",
       "No     16845\n",
       "Yes     5363\n",
       "Name: count, dtype: int64>"
      ]
     },
     "execution_count": 28,
     "metadata": {},
     "output_type": "execute_result"
    }
   ],
   "source": [
    "data['Stage_fear'].value_counts().unique"
   ]
  },
  {
   "cell_type": "code",
   "execution_count": 29,
   "id": "8cd610db-3d86-4f90-98d2-64e454cfbcaf",
   "metadata": {},
   "outputs": [],
   "source": [
    "data['Stage_fear'].fillna(data['Stage_fear'].mode()[0], inplace=True)\n"
   ]
  },
  {
   "cell_type": "code",
   "execution_count": 30,
   "id": "c571a2e9-6d75-4992-9a2a-c7ca9beb8918",
   "metadata": {},
   "outputs": [
    {
     "data": {
      "text/plain": [
       "0"
      ]
     },
     "execution_count": 30,
     "metadata": {},
     "output_type": "execute_result"
    }
   ],
   "source": [
    "data['Stage_fear'].isnull().sum()"
   ]
  },
  {
   "cell_type": "code",
   "execution_count": 31,
   "id": "b66cee94-dc52-419c-b1df-29d21a45df92",
   "metadata": {},
   "outputs": [
    {
     "data": {
      "text/plain": [
       "<bound method Series.unique of Social_event_attendance\n",
       "9.0     2758\n",
       "4.0     2756\n",
       "7.0     2709\n",
       "5.0     2654\n",
       "6.0     2645\n",
       "8.0     2607\n",
       "3.0     2238\n",
       "2.0     1421\n",
       "0.0     1403\n",
       "1.0     1311\n",
       "10.0     620\n",
       "Name: count, dtype: int64>"
      ]
     },
     "execution_count": 31,
     "metadata": {},
     "output_type": "execute_result"
    }
   ],
   "source": [
    "data['Social_event_attendance'].value_counts().unique"
   ]
  },
  {
   "cell_type": "code",
   "execution_count": 32,
   "id": "8db3b35f-4258-48a9-a195-e33ddb2664b0",
   "metadata": {},
   "outputs": [
    {
     "data": {
      "text/plain": [
       "1577"
      ]
     },
     "execution_count": 32,
     "metadata": {},
     "output_type": "execute_result"
    }
   ],
   "source": [
    "data['Social_event_attendance'].isnull().sum()"
   ]
  },
  {
   "cell_type": "code",
   "execution_count": 33,
   "id": "1aec0f42-70c7-434c-ad21-c7da44db0f99",
   "metadata": {},
   "outputs": [
    {
     "data": {
      "image/png": "[encoded data removed]",
      "text/plain": [
       "<Figure size 640x480 with 1 Axes>"
      ]
     },
     "metadata": {},
     "output_type": "display_data"
    }
   ],
   "source": [
    "plt.figure()\n",
    "sns.distplot(data['Social_event_attendance'])\n",
    "\n",
    "plt.show()"
   ]
  },
  {
   "cell_type": "code",
   "execution_count": 34,
   "id": "db9cdfc7-1f7e-44fd-bd5a-dd907bbbcc20",
   "metadata": {},
   "outputs": [],
   "source": [
    "data['Social_event_attendance'].fillna(data['Social_event_attendance'].median(), inplace=True)"
   ]
  },
  {
   "cell_type": "code",
   "execution_count": 35,
   "id": "3fdbd3c6-48fb-4269-8f34-cb5775d7183c",
   "metadata": {},
   "outputs": [
    {
     "data": {
      "text/plain": [
       "0"
      ]
     },
     "execution_count": 35,
     "metadata": {},
     "output_type": "execute_result"
    }
   ],
   "source": [
    "data['Social_event_attendance'].isnull().sum()"
   ]
  },
  {
   "cell_type": "code",
   "execution_count": 36,
   "id": "b13acdb2-b6ba-44e1-8959-717bef5eb24a",
   "metadata": {},
   "outputs": [
    {
     "data": {
      "text/plain": [
       "<bound method Series.unique of Going_outside\n",
       "3.0    3858\n",
       "5.0    3852\n",
       "6.0    3627\n",
       "4.0    3594\n",
       "7.0    2880\n",
       "0.0    1750\n",
       "2.0    1702\n",
       "1.0    1504\n",
       "Name: count, dtype: int64>"
      ]
     },
     "execution_count": 36,
     "metadata": {},
     "output_type": "execute_result"
    }
   ],
   "source": [
    "data['Going_outside'].value_counts().unique"
   ]
  },
  {
   "cell_type": "code",
   "execution_count": 37,
   "id": "8f447aa6-05e1-498a-8a8c-58973ae48745",
   "metadata": {},
   "outputs": [
    {
     "data": {
      "image/png": "[encoded data removed]",
      "text/plain": [
       "<Figure size 640x480 with 1 Axes>"
      ]
     },
     "metadata": {},
     "output_type": "display_data"
    }
   ],
   "source": [
    "plt.figure()\n",
    "sns.distplot(data['Going_outside'])\n",
    "\n",
    "plt.show()"
   ]
  },
  {
   "cell_type": "code",
   "execution_count": 38,
   "id": "30c696fb-88fe-4f4b-bb87-847d553fcac6",
   "metadata": {},
   "outputs": [
    {
     "data": {
      "text/plain": [
       "<bound method Series.unique of Drained_after_socializing\n",
       "No     17750\n",
       "Yes     5368\n",
       "Name: count, dtype: int64>"
      ]
     },
     "execution_count": 38,
     "metadata": {},
     "output_type": "execute_result"
    }
   ],
   "source": [
    "data['Drained_after_socializing'].value_counts().unique"
   ]
  },
  {
   "cell_type": "code",
   "execution_count": 39,
   "id": "2b964f48-c25b-4c43-a30b-0d29335a1ffc",
   "metadata": {},
   "outputs": [
    {
     "data": {
      "text/plain": [
       "<bound method Series.unique of Friends_circle_size\n",
       "5.0     2259\n",
       "12.0    1748\n",
       "4.0     1726\n",
       "10.0    1699\n",
       "8.0     1689\n",
       "11.0    1682\n",
       "14.0    1580\n",
       "6.0     1535\n",
       "7.0     1505\n",
       "9.0     1426\n",
       "13.0    1422\n",
       "15.0    1233\n",
       "3.0     1162\n",
       "2.0     1010\n",
       "1.0      987\n",
       "0.0      632\n",
       "Name: count, dtype: int64>"
      ]
     },
     "execution_count": 39,
     "metadata": {},
     "output_type": "execute_result"
    }
   ],
   "source": [
    "data['Friends_circle_size'].value_counts().unique"
   ]
  },
  {
   "cell_type": "code",
   "execution_count": 40,
   "id": "07c790de-c01f-48ec-a101-aa142e9c9bb2",
   "metadata": {},
   "outputs": [
    {
     "data": {
      "image/png": "[encoded data removed]",
      "text/plain": [
       "<Figure size 640x480 with 1 Axes>"
      ]
     },
     "metadata": {},
     "output_type": "display_data"
    }
   ],
   "source": [
    "plt.figure()\n",
    "sns.distplot(data['Friends_circle_size'])\n",
    "\n",
    "plt.show()"
   ]
  },
  {
   "cell_type": "code",
   "execution_count": 41,
   "id": "06f45cbb-76d6-4ad0-987b-d86e191265f3",
   "metadata": {},
   "outputs": [],
   "source": [
    "data['Friends_circle_size'].fillna(data['Friends_circle_size'].median(), inplace=True)"
   ]
  },
  {
   "cell_type": "code",
   "execution_count": 42,
   "id": "4484e643-e8cb-4d68-88f6-916be3665d3b",
   "metadata": {},
   "outputs": [
    {
     "data": {
      "text/plain": [
       "0"
      ]
     },
     "execution_count": 42,
     "metadata": {},
     "output_type": "execute_result"
    }
   ],
   "source": [
    "data['Friends_circle_size'].isnull().sum()"
   ]
  },
  {
   "cell_type": "code",
   "execution_count": 43,
   "id": "7742f814-21fe-4ea1-8b8a-37c26831c9aa",
   "metadata": {},
   "outputs": [],
   "source": [
    "data['Drained_after_socializing'].fillna(data['Drained_after_socializing'].mode()[0], inplace=True)"
   ]
  },
  {
   "cell_type": "code",
   "execution_count": 44,
   "id": "8e7e1d7b-1025-4c50-ab33-1019b761d71f",
   "metadata": {},
   "outputs": [
    {
     "data": {
      "text/plain": [
       "0"
      ]
     },
     "execution_count": 44,
     "metadata": {},
     "output_type": "execute_result"
    }
   ],
   "source": [
    "data['Drained_after_socializing'].isnull().sum()"
   ]
  },
  {
   "cell_type": "code",
   "execution_count": 45,
   "id": "adf2ed90-8a5d-4f81-85e1-cbd8e4cfe9e4",
   "metadata": {},
   "outputs": [
    {
     "data": {
      "text/plain": [
       "<bound method Series.unique of Post_frequency\n",
       "3.0     3024\n",
       "7.0     2456\n",
       "5.0     2378\n",
       "6.0     2347\n",
       "8.0     2346\n",
       "9.0     2311\n",
       "4.0     2259\n",
       "2.0     1716\n",
       "0.0     1685\n",
       "1.0     1592\n",
       "10.0     913\n",
       "Name: count, dtype: int64>"
      ]
     },
     "execution_count": 45,
     "metadata": {},
     "output_type": "execute_result"
    }
   ],
   "source": [
    "data['Post_frequency'].value_counts().unique"
   ]
  },
  {
   "cell_type": "code",
   "execution_count": 46,
   "id": "d2567872-f8d8-45d9-ac84-052e9a44eea9",
   "metadata": {},
   "outputs": [
    {
     "data": {
      "image/png": "[encoded data removed]",
      "text/plain": [
       "<Figure size 640x480 with 1 Axes>"
      ]
     },
     "metadata": {},
     "output_type": "display_data"
    }
   ],
   "source": [
    "plt.figure()\n",
    "sns.distplot(data['Post_frequency'])\n",
    "\n",
    "plt.show()"
   ]
  },
  {
   "cell_type": "code",
   "execution_count": 47,
   "id": "8750f28e-2bd4-445f-b86b-7fb9227b7418",
   "metadata": {},
   "outputs": [],
   "source": [
    "data['Post_frequency'].fillna(data['Post_frequency'].median(), inplace=True)"
   ]
  },
  {
   "cell_type": "code",
   "execution_count": 48,
   "id": "18daa98b-fbdd-4e5e-ad0b-902946618174",
   "metadata": {},
   "outputs": [
    {
     "data": {
      "text/plain": [
       "Index(['Stage_fear', 'Drained_after_socializing', 'Personality'], dtype='object')"
      ]
     },
     "execution_count": 48,
     "metadata": {},
     "output_type": "execute_result"
    }
   ],
   "source": [
    " col = data.select_dtypes(include=['object','category', 'boolean']).columns\n",
    "col"
   ]
  },
  {
   "cell_type": "code",
   "execution_count": 49,
   "id": "a4cbab95-b365-4f80-b263-0ba395022b74",
   "metadata": {},
   "outputs": [],
   "source": [
    "cols = ['Stage_fear', 'Drained_after_socializing']"
   ]
  },
  {
   "cell_type": "code",
   "execution_count": 50,
   "id": "2de0074c-5b06-4aa7-a460-ebe62163253b",
   "metadata": {},
   "outputs": [
    {
     "name": "stdout",
     "output_type": "stream",
     "text": [
      "<class 'pandas.core.frame.DataFrame'>\n",
      "Index: 24699 entries, 0 to 6174\n",
      "Data columns (total 9 columns):\n",
      " #   Column                     Non-Null Count  Dtype  \n",
      "---  ------                     --------------  -----  \n",
      " 0   id                         24699 non-null  int64  \n",
      " 1   Time_spent_Alone           24699 non-null  float64\n",
      " 2   Stage_fear                 24699 non-null  object \n",
      " 3   Social_event_attendance    24699 non-null  float64\n",
      " 4   Going_outside              22767 non-null  float64\n",
      " 5   Drained_after_socializing  24699 non-null  object \n",
      " 6   Friends_circle_size        24699 non-null  float64\n",
      " 7   Post_frequency             24699 non-null  float64\n",
      " 8   Personality                18524 non-null  object \n",
      "dtypes: float64(5), int64(1), object(3)\n",
      "memory usage: 1.9+ MB\n"
     ]
    }
   ],
   "source": [
    "data.info()"
   ]
  },
  {
   "cell_type": "code",
   "execution_count": 51,
   "id": "620d409f-2ae6-4345-98b8-3044365356f6",
   "metadata": {},
   "outputs": [],
   "source": [
    "for c in cols:\n",
    "    data[c] = data[c].map({\"Yes\": 1, \"No\": 0})"
   ]
  },
  {
   "cell_type": "code",
   "execution_count": 52,
   "id": "1e9d005e-ae74-45f2-b951-799309e7d37c",
   "metadata": {},
   "outputs": [],
   "source": [
    "data['Personality'] = data['Personality'].map({\"Introvert\":0, \"Extrovert\": 1})"
   ]
  },
  {
   "cell_type": "code",
   "execution_count": 53,
   "id": "f1cffa50-9e09-459f-9ae3-93240e381d12",
   "metadata": {},
   "outputs": [
    {
     "name": "stdout",
     "output_type": "stream",
     "text": [
      "<class 'pandas.core.frame.DataFrame'>\n",
      "Index: 24699 entries, 0 to 6174\n",
      "Data columns (total 9 columns):\n",
      " #   Column                     Non-Null Count  Dtype  \n",
      "---  ------                     --------------  -----  \n",
      " 0   id                         24699 non-null  int64  \n",
      " 1   Time_spent_Alone           24699 non-null  float64\n",
      " 2   Stage_fear                 24699 non-null  int64  \n",
      " 3   Social_event_attendance    24699 non-null  float64\n",
      " 4   Going_outside              22767 non-null  float64\n",
      " 5   Drained_after_socializing  24699 non-null  int64  \n",
      " 6   Friends_circle_size        24699 non-null  float64\n",
      " 7   Post_frequency             24699 non-null  float64\n",
      " 8   Personality                18524 non-null  float64\n",
      "dtypes: float64(6), int64(3)\n",
      "memory usage: 1.9 MB\n"
     ]
    }
   ],
   "source": [
    "data.info()"
   ]
  },
  {
   "cell_type": "code",
   "execution_count": 54,
   "id": "3168f240-7e5c-4936-b31d-839e82da3e9c",
   "metadata": {},
   "outputs": [
    {
     "name": "stdout",
     "output_type": "stream",
     "text": [
      "Mode of Going_outside: 3.0\n"
     ]
    }
   ],
   "source": [
    "mode_value = data[\"Going_outside\"].mode()[0]\n",
    "print(\"Mode of Going_outside:\", mode_value)"
   ]
  },
  {
   "cell_type": "code",
   "execution_count": 55,
   "id": "d8b1e1df-5991-46e6-91e9-4cb49bdba6a7",
   "metadata": {},
   "outputs": [],
   "source": [
    "data['Going_outside'].fillna(mode_value, inplace=True)"
   ]
  },
  {
   "cell_type": "code",
   "execution_count": 56,
   "id": "b0d3e784-3295-44ce-bab2-0166a860c72c",
   "metadata": {},
   "outputs": [
    {
     "data": {
      "text/plain": [
       "0       1.0\n",
       "1       1.0\n",
       "2       0.0\n",
       "3       1.0\n",
       "4       1.0\n",
       "       ... \n",
       "6170    NaN\n",
       "6171    NaN\n",
       "6172    NaN\n",
       "6173    NaN\n",
       "6174    NaN\n",
       "Name: Personality, Length: 24699, dtype: float64"
      ]
     },
     "execution_count": 56,
     "metadata": {},
     "output_type": "execute_result"
    }
   ],
   "source": [
    "data['Personality']"
   ]
  },
  {
   "cell_type": "code",
   "execution_count": 57,
   "id": "fb2d1890-9ade-4a27-b504-e3d3f07c2b37",
   "metadata": {},
   "outputs": [
    {
     "data": {
      "text/plain": [
       "(18524, 9)"
      ]
     },
     "execution_count": 57,
     "metadata": {},
     "output_type": "execute_result"
    }
   ],
   "source": [
    "train_df.shape"
   ]
  },
  {
   "cell_type": "code",
   "execution_count": 58,
   "id": "616e21aa-a2d0-4449-8024-daf03c0fcde3",
   "metadata": {},
   "outputs": [
    {
     "data": {
      "text/plain": [
       "(6175, 8)"
      ]
     },
     "execution_count": 58,
     "metadata": {},
     "output_type": "execute_result"
    }
   ],
   "source": [
    "test_df.shape"
   ]
  },
  {
   "cell_type": "code",
   "execution_count": 59,
   "id": "92f2c761-c976-44e1-9c02-7cb1c1574f80",
   "metadata": {},
   "outputs": [],
   "source": [
    "train_data = data.iloc[:18524]"
   ]
  },
  {
   "cell_type": "code",
   "execution_count": 60,
   "id": "4e69e63e-847e-44d6-85de-0de6eae99f64",
   "metadata": {},
   "outputs": [
    {
     "data": {
      "text/plain": [
       "(18524, 9)"
      ]
     },
     "execution_count": 60,
     "metadata": {},
     "output_type": "execute_result"
    }
   ],
   "source": [
    "train_data.shape"
   ]
  },
  {
   "cell_type": "code",
   "execution_count": 61,
   "id": "9664b53e-616e-4579-bf01-fceec456ddf4",
   "metadata": {},
   "outputs": [],
   "source": [
    "test_data = data.iloc[18524:]"
   ]
  },
  {
   "cell_type": "code",
   "execution_count": 62,
   "id": "2cfe781b-0602-4eae-838a-1283396bdf93",
   "metadata": {},
   "outputs": [
    {
     "data": {
      "text/plain": [
       "(6175, 9)"
      ]
     },
     "execution_count": 62,
     "metadata": {},
     "output_type": "execute_result"
    }
   ],
   "source": [
    "test_data.shape"
   ]
  },
  {
   "cell_type": "code",
   "execution_count": 63,
   "id": "fd352916-91b8-4e24-9464-3d69463e9ba5",
   "metadata": {},
   "outputs": [
    {
     "data": {
      "text/html": [
       "<div>\n",
       "<style scoped>\n",
       "    .dataframe tbody tr th:only-of-type {\n",
       "        vertical-align: middle;\n",
       "    }\n",
       "\n",
       "    .dataframe tbody tr th {\n",
       "        vertical-align: top;\n",
       "    }\n",
       "\n",
       "    .dataframe thead th {\n",
       "        text-align: right;\n",
       "    }\n",
       "</style>\n",
       "<table border=\"1\" class=\"dataframe\">\n",
       "  <thead>\n",
       "    <tr style=\"text-align: right;\">\n",
       "      <th></th>\n",
       "      <th>id</th>\n",
       "      <th>Time_spent_Alone</th>\n",
       "      <th>Stage_fear</th>\n",
       "      <th>Social_event_attendance</th>\n",
       "      <th>Going_outside</th>\n",
       "      <th>Drained_after_socializing</th>\n",
       "      <th>Friends_circle_size</th>\n",
       "      <th>Post_frequency</th>\n",
       "      <th>Personality</th>\n",
       "    </tr>\n",
       "  </thead>\n",
       "  <tbody>\n",
       "    <tr>\n",
       "      <th>0</th>\n",
       "      <td>0</td>\n",
       "      <td>0.0</td>\n",
       "      <td>0</td>\n",
       "      <td>6.0</td>\n",
       "      <td>4.0</td>\n",
       "      <td>0</td>\n",
       "      <td>15.0</td>\n",
       "      <td>5.0</td>\n",
       "      <td>1.0</td>\n",
       "    </tr>\n",
       "    <tr>\n",
       "      <th>1</th>\n",
       "      <td>1</td>\n",
       "      <td>1.0</td>\n",
       "      <td>0</td>\n",
       "      <td>7.0</td>\n",
       "      <td>3.0</td>\n",
       "      <td>0</td>\n",
       "      <td>10.0</td>\n",
       "      <td>8.0</td>\n",
       "      <td>1.0</td>\n",
       "    </tr>\n",
       "    <tr>\n",
       "      <th>2</th>\n",
       "      <td>2</td>\n",
       "      <td>6.0</td>\n",
       "      <td>1</td>\n",
       "      <td>1.0</td>\n",
       "      <td>0.0</td>\n",
       "      <td>0</td>\n",
       "      <td>3.0</td>\n",
       "      <td>0.0</td>\n",
       "      <td>0.0</td>\n",
       "    </tr>\n",
       "    <tr>\n",
       "      <th>3</th>\n",
       "      <td>3</td>\n",
       "      <td>3.0</td>\n",
       "      <td>0</td>\n",
       "      <td>7.0</td>\n",
       "      <td>3.0</td>\n",
       "      <td>0</td>\n",
       "      <td>11.0</td>\n",
       "      <td>5.0</td>\n",
       "      <td>1.0</td>\n",
       "    </tr>\n",
       "    <tr>\n",
       "      <th>4</th>\n",
       "      <td>4</td>\n",
       "      <td>1.0</td>\n",
       "      <td>0</td>\n",
       "      <td>4.0</td>\n",
       "      <td>4.0</td>\n",
       "      <td>0</td>\n",
       "      <td>13.0</td>\n",
       "      <td>5.0</td>\n",
       "      <td>1.0</td>\n",
       "    </tr>\n",
       "  </tbody>\n",
       "</table>\n",
       "</div>"
      ],
      "text/plain": [
       "   id  Time_spent_Alone  Stage_fear  Social_event_attendance  Going_outside  \\\n",
       "0   0               0.0           0                      6.0            4.0   \n",
       "1   1               1.0           0                      7.0            3.0   \n",
       "2   2               6.0           1                      1.0            0.0   \n",
       "3   3               3.0           0                      7.0            3.0   \n",
       "4   4               1.0           0                      4.0            4.0   \n",
       "\n",
       "   Drained_after_socializing  Friends_circle_size  Post_frequency  Personality  \n",
       "0                          0                 15.0             5.0          1.0  \n",
       "1                          0                 10.0             8.0          1.0  \n",
       "2                          0                  3.0             0.0          0.0  \n",
       "3                          0                 11.0             5.0          1.0  \n",
       "4                          0                 13.0             5.0          1.0  "
      ]
     },
     "execution_count": 63,
     "metadata": {},
     "output_type": "execute_result"
    }
   ],
   "source": [
    "train_data.head()"
   ]
  },
  {
   "cell_type": "code",
   "execution_count": 64,
   "id": "1b4e1b41-1596-4228-81b5-115e6f4b5248",
   "metadata": {},
   "outputs": [],
   "source": [
    "train_data.drop(columns=['id'], inplace=True)\n"
   ]
  },
  {
   "cell_type": "code",
   "execution_count": 65,
   "id": "99bff6aa-1b48-46b5-9299-28d9069807e3",
   "metadata": {},
   "outputs": [],
   "source": [
    "X = train_data.drop(\"Personality\", axis=1)\n",
    "y = train_data['Personality']\n",
    "                    "
   ]
  },
  {
   "cell_type": "code",
   "execution_count": 66,
   "id": "b35a22bb-da95-4ba9-bf52-251b7dddb64d",
   "metadata": {},
   "outputs": [
    {
     "data": {
      "text/plain": [
       "0        1.0\n",
       "1        1.0\n",
       "2        0.0\n",
       "3        1.0\n",
       "4        1.0\n",
       "        ... \n",
       "18519    1.0\n",
       "18520    1.0\n",
       "18521    0.0\n",
       "18522    0.0\n",
       "18523    1.0\n",
       "Name: Personality, Length: 18524, dtype: float64"
      ]
     },
     "execution_count": 66,
     "metadata": {},
     "output_type": "execute_result"
    }
   ],
   "source": [
    "y"
   ]
  },
  {
   "cell_type": "code",
   "execution_count": 67,
   "id": "13bdec2d-0ecf-451f-a362-883840e1f103",
   "metadata": {},
   "outputs": [],
   "source": [
    "from sklearn.model_selection import train_test_split"
   ]
  },
  {
   "cell_type": "code",
   "execution_count": 68,
   "id": "a6432dd5-f224-48f3-a128-e91d72f70811",
   "metadata": {},
   "outputs": [],
   "source": [
    "x_train, x_test, y_train, y_test = train_test_split(X, y, test_size=0.2, random_state=42)"
   ]
  },
  {
   "cell_type": "code",
   "execution_count": 69,
   "id": "6e3c7018-f1b3-48ac-ac46-17ca66cbec07",
   "metadata": {},
   "outputs": [
    {
     "name": "stdout",
     "output_type": "stream",
     "text": [
      "Model training complete.\n"
     ]
    }
   ],
   "source": [
    "from sklearn.ensemble import RandomForestClassifier\n",
    "\n",
    "# 1. Initialize the model\n",
    "# random_state ensures that the results are reproducible\n",
    "model = RandomForestClassifier(n_estimators=100, random_state=42)\n",
    "\n",
    "# 2. Train the model on the training data\n",
    "model.fit(x_train, y_train)\n",
    "\n",
    "print(\"Model training complete.\")"
   ]
  },
  {
   "cell_type": "code",
   "execution_count": 70,
   "id": "dc5b0fd3-0869-4e38-bc01-144995d3c32d",
   "metadata": {},
   "outputs": [
    {
     "name": "stdout",
     "output_type": "stream",
     "text": [
      "Model Accuracy: 96.38%\n",
      "\n",
      "Classification Report:\n",
      "              precision    recall  f1-score   support\n",
      "\n",
      "         0.0       0.94      0.92      0.93       952\n",
      "         1.0       0.97      0.98      0.98      2753\n",
      "\n",
      "    accuracy                           0.96      3705\n",
      "   macro avg       0.96      0.95      0.95      3705\n",
      "weighted avg       0.96      0.96      0.96      3705\n",
      "\n",
      "\n",
      "Confusion Matrix:\n"
     ]
    },
    {
     "data": {
      "image/png": "[encoded data removed]",
      "text/plain": [
       "<Figure size 640x480 with 2 Axes>"
      ]
     },
     "metadata": {},
     "output_type": "display_data"
    }
   ],
   "source": [
    "from sklearn.metrics import accuracy_score, classification_report, confusion_matrix\n",
    "import seaborn as sns\n",
    "import matplotlib.pyplot as plt\n",
    "\n",
    "# 1. Make predictions on the test data\n",
    "y_pred = model.predict(x_test)\n",
    "\n",
    "# 2. Calculate accuracy\n",
    "accuracy = accuracy_score(y_test, y_pred)\n",
    "print(f\"Model Accuracy: {accuracy * 100:.2f}%\")\n",
    "\n",
    "# 3. Print a detailed classification report\n",
    "print(\"\\nClassification Report:\")\n",
    "print(classification_report(y_test, y_pred))\n",
    "\n",
    "# 4. Display the confusion matrix\n",
    "print(\"\\nConfusion Matrix:\")\n",
    "cm = confusion_matrix(y_test, y_pred)\n",
    "sns.heatmap(cm, annot=True, fmt='d', cmap='Blues')\n",
    "plt.xlabel('Predicted')\n",
    "plt.ylabel('Actual')\n",
    "plt.show()"
   ]
  },
  {
   "cell_type": "code",
   "execution_count": 71,
   "id": "4cb813a8-9947-4662-8280-3dbc8ec2af6e",
   "metadata": {},
   "outputs": [
    {
     "name": "stdout",
     "output_type": "stream",
     "text": [
      "Requirement already satisfied: xgboost in c:\\users\\madee\\anaconda3\\lib\\site-packages (3.0.4)\n",
      "Requirement already satisfied: numpy in c:\\users\\madee\\anaconda3\\lib\\site-packages (from xgboost) (1.26.4)\n",
      "Requirement already satisfied: scipy in c:\\users\\madee\\anaconda3\\lib\\site-packages (from xgboost) (1.13.1)\n",
      "Note: you may need to restart the kernel to use updated packages.\n"
     ]
    }
   ],
   "source": [
    "pip install xgboost\n"
   ]
  },
  {
   "cell_type": "code",
   "execution_count": 72,
   "id": "f3e890d9-eaf3-45f3-b8e7-276e66523917",
   "metadata": {},
   "outputs": [
    {
     "name": "stdout",
     "output_type": "stream",
     "text": [
      "XGBoost model training complete.\n",
      "\n",
      "XGBoost Model Accuracy: 96.60%\n",
      "\n",
      "Classification Report:\n",
      "              precision    recall  f1-score   support\n",
      "\n",
      "         0.0       0.94      0.92      0.93       952\n",
      "         1.0       0.97      0.98      0.98      2753\n",
      "\n",
      "    accuracy                           0.97      3705\n",
      "   macro avg       0.96      0.95      0.96      3705\n",
      "weighted avg       0.97      0.97      0.97      3705\n",
      "\n",
      "\n",
      "Confusion Matrix:\n"
     ]
    },
    {
     "data": {
      "image/png": "[encoded data removed]",
      "text/plain": [
       "<Figure size 640x480 with 2 Axes>"
      ]
     },
     "metadata": {},
     "output_type": "display_data"
    }
   ],
   "source": [
    "import xgboost as xgb\n",
    "from sklearn.metrics import accuracy_score, classification_report, confusion_matrix\n",
    "import seaborn as sns\n",
    "import matplotlib.pyplot as plt\n",
    "\n",
    "# The X_train, X_test, y_train, and y_test variables are the same as before\n",
    "\n",
    "# 1. Initialize the XGBoost model\n",
    "# We use the same random_state for reproducibility\n",
    "model_xgb = xgb.XGBClassifier(n_estimators=100, random_state=42, use_label_encoder=False, eval_metric='logloss')\n",
    "\n",
    "# 2. Train the model on the training data\n",
    "model_xgb.fit(x_train, y_train)\n",
    "\n",
    "print(\"XGBoost model training complete.\")\n",
    "\n",
    "# 3. Make predictions on the test data\n",
    "y_pred_xgb = model_xgb.predict(x_test)\n",
    "\n",
    "# 4. Calculate and print the performance metrics\n",
    "accuracy_xgb = accuracy_score(y_test, y_pred_xgb)\n",
    "print(f\"\\nXGBoost Model Accuracy: {accuracy_xgb * 100:.2f}%\")\n",
    "\n",
    "print(\"\\nClassification Report:\")\n",
    "print(classification_report(y_test, y_pred_xgb))\n",
    "\n",
    "print(\"\\nConfusion Matrix:\")\n",
    "cm_xgb = confusion_matrix(y_test, y_pred_xgb)\n",
    "sns.heatmap(cm_xgb, annot=True, fmt='d', cmap='Blues')\n",
    "plt.xlabel('Predicted')\n",
    "plt.ylabel('Actual')\n",
    "plt.show()"
   ]
  },
  {
   "cell_type": "code",
   "execution_count": 73,
   "id": "7b1683e9-fed8-4136-a29c-bd0de0cd8727",
   "metadata": {},
   "outputs": [],
   "source": [
    "import pickle"
   ]
  },
  {
   "cell_type": "code",
   "execution_count": 74,
   "id": "77961fd9-3d77-4222-82e0-d1ab7b8e8717",
   "metadata": {},
   "outputs": [],
   "source": [
    "with open('personality_model.pkl', 'wb') as f:\n",
    "    pickle.dump(model, f)"
   ]
  },
  {
   "cell_type": "code",
   "execution_count": 75,
   "id": "67103a52-b5bf-4a1a-a223-a2540748ddf5",
   "metadata": {},
   "outputs": [
    {
     "name": "stdout",
     "output_type": "stream",
     "text": [
      "Model columns saved to 'model_columns.pkl'\n"
     ]
    }
   ],
   "source": [
    "model_columns = list(X.columns)\n",
    "with open('model_columns.pkl', 'wb') as f:\n",
    "    pickle.dump(model_columns, f)\n",
    "print(\"Model columns saved to 'model_columns.pkl'\")"
   ]
  },
  {
   "cell_type": "code",
   "execution_count": 76,
   "id": "b3591eda-80e1-402a-afb6-ad8e22715f63",
   "metadata": {},
   "outputs": [],
   "source": [
    "cols = train_df.copy()"
   ]
  },
  {
   "cell_type": "code",
   "execution_count": 77,
   "id": "7c0e667d-11fd-4062-9a3c-71245c0c883a",
   "metadata": {},
   "outputs": [
    {
     "data": {
      "text/plain": [
       "Index(['id', 'Time_spent_Alone', 'Stage_fear', 'Social_event_attendance',\n",
       "       'Going_outside', 'Drained_after_socializing', 'Friends_circle_size',\n",
       "       'Post_frequency', 'Personality'],\n",
       "      dtype='object')"
      ]
     },
     "execution_count": 77,
     "metadata": {},
     "output_type": "execute_result"
    }
   ],
   "source": [
    "cols.columns"
   ]
  },
  {
   "cell_type": "code",
   "execution_count": 78,
   "id": "becfc4ac-943a-4d68-9d37-418008ec5ec9",
   "metadata": {},
   "outputs": [],
   "source": [
    " cols = cols.drop(columns=['id', 'Personality'])"
   ]
  },
  {
   "cell_type": "code",
   "execution_count": 79,
   "id": "a44a424d-e8ff-42a7-82b9-2a873bf0d236",
   "metadata": {},
   "outputs": [
    {
     "data": {
      "text/plain": [
       "Index(['Time_spent_Alone', 'Stage_fear', 'Social_event_attendance',\n",
       "       'Going_outside', 'Drained_after_socializing', 'Friends_circle_size',\n",
       "       'Post_frequency'],\n",
       "      dtype='object')"
      ]
     },
     "execution_count": 79,
     "metadata": {},
     "output_type": "execute_result"
    }
   ],
   "source": [
    "cols.columns"
   ]
  },
  {
   "cell_type": "code",
   "execution_count": 80,
   "id": "b68e6353-2e5b-4752-86ac-8501b133132c",
   "metadata": {},
   "outputs": [],
   "source": [
    "unique_values = {}\n",
    "for col in cols.columns:\n",
    "    unique_values[col] = cols[col].unique().tolist()"
   ]
  },
  {
   "cell_type": "code",
   "execution_count": 81,
   "id": "466b3d7a-e740-4dab-b0b5-d75a2558d5f3",
   "metadata": {},
   "outputs": [
    {
     "data": {
      "text/plain": [
       "{'Time_spent_Alone': [0.0,\n",
       "  1.0,\n",
       "  6.0,\n",
       "  3.0,\n",
       "  2.0,\n",
       "  4.0,\n",
       "  nan,\n",
       "  5.0,\n",
       "  9.0,\n",
       "  10.0,\n",
       "  7.0,\n",
       "  8.0,\n",
       "  11.0],\n",
       " 'Stage_fear': ['No', 'Yes', nan],\n",
       " 'Social_event_attendance': [6.0,\n",
       "  7.0,\n",
       "  1.0,\n",
       "  4.0,\n",
       "  8.0,\n",
       "  2.0,\n",
       "  5.0,\n",
       "  nan,\n",
       "  0.0,\n",
       "  9.0,\n",
       "  3.0,\n",
       "  10.0],\n",
       " 'Going_outside': [4.0, 3.0, 0.0, 5.0, nan, 1.0, 6.0, 2.0, 7.0],\n",
       " 'Drained_after_socializing': ['No', nan, 'Yes'],\n",
       " 'Friends_circle_size': [15.0,\n",
       "  10.0,\n",
       "  3.0,\n",
       "  11.0,\n",
       "  13.0,\n",
       "  nan,\n",
       "  4.0,\n",
       "  0.0,\n",
       "  14.0,\n",
       "  5.0,\n",
       "  9.0,\n",
       "  12.0,\n",
       "  8.0,\n",
       "  2.0,\n",
       "  1.0,\n",
       "  6.0,\n",
       "  7.0],\n",
       " 'Post_frequency': [5.0,\n",
       "  8.0,\n",
       "  0.0,\n",
       "  nan,\n",
       "  3.0,\n",
       "  4.0,\n",
       "  2.0,\n",
       "  9.0,\n",
       "  10.0,\n",
       "  6.0,\n",
       "  7.0,\n",
       "  1.0]}"
      ]
     },
     "execution_count": 81,
     "metadata": {},
     "output_type": "execute_result"
    }
   ],
   "source": [
    "unique_values"
   ]
  },
  {
   "cell_type": "code",
   "execution_count": 82,
   "id": "1224c4f1-5b8f-42a9-bade-e57e9e7ad586",
   "metadata": {},
   "outputs": [
    {
     "name": "stdout",
     "output_type": "stream",
     "text": [
      "Unique column values saved to 'unique_values.pkl'\n"
     ]
    }
   ],
   "source": [
    "with open('unique_values.pkl', 'wb') as f:\n",
    "    pickle.dump(unique_values, f)\n",
    "print(\"Unique column values saved to 'unique_values.pkl'\")"
   ]
  },
  {
   "cell_type": "code",
   "execution_count": null,
   "id": "37993585-b42a-4e26-b837-3789ed4aca84",
   "metadata": {},
   "outputs": [],
   "source": []
  }
 ],
 "metadata": {
  "kernelspec": {
   "display_name": "Python 3 (ipykernel)",
   "language": "python",
   "name": "python3"
  },
  "language_info": {
   "codemirror_mode": {
    "name": "ipython",
    "version": 3
   },
   "file_extension": ".py",
   "mimetype": "text/x-python",
   "name": "python",
   "nbconvert_exporter": "python",
   "pygments_lexer": "ipython3",
   "version": "3.12.3"
  }
 },
 "nbformat": 4,
 "nbformat_minor": 5
}
